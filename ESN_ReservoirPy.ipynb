{
 "cells": [
  {
   "cell_type": "code",
   "execution_count": null,
   "id": "8d042eb3",
   "metadata": {},
   "outputs": [],
   "source": [
    "import reservoirpy as rpy\n",
    "\n",
    "rpy.set_seed(42)  # make everything reproducible!"
   ]
  },
  {
   "cell_type": "code",
   "execution_count": null,
   "id": "12081e4f",
   "metadata": {},
   "outputs": [],
   "source": [
    "from reservoirpy.nodes import Reservoir\n",
    "\n",
    "reservoir = Reservoir(100, lr=0.5, sr=0.9)"
   ]
  },
  {
   "cell_type": "code",
   "execution_count": null,
   "id": "ccbb6916",
   "metadata": {},
   "outputs": [],
   "source": [
    "import numpy as np\n",
    "import matplotlib.pyplot as plt\n",
    "\n",
    "X = np.sin(np.linspace(0, 6*np.pi, 100)).reshape(-1, 1)\n",
    "\n",
    "plt.figure(figsize=(10, 3))\n",
    "plt.title(\"A sine wave.\")\n",
    "plt.ylabel(\"$sin(t)$\")\n",
    "plt.xlabel(\"$t$\")\n",
    "plt.plot(X)\n",
    "plt.show()"
   ]
  },
  {
   "cell_type": "code",
   "execution_count": null,
   "id": "651f5df1",
   "metadata": {},
   "outputs": [],
   "source": [
    "s = reservoir(X[0])\n",
    "\n",
    "print(\"New state vector shape: \", s.shape)"
   ]
  },
  {
   "cell_type": "code",
   "execution_count": null,
   "id": "d69adcbb",
   "metadata": {},
   "outputs": [],
   "source": [
    "s = reservoir.state[\"out\"]"
   ]
  },
  {
   "cell_type": "code",
   "execution_count": null,
   "id": "9de4038c",
   "metadata": {},
   "outputs": [],
   "source": [
    "states = np.empty((len(X), reservoir.output_dim))\n",
    "for i in range(len(X)):\n",
    "    states[i] = reservoir(X[i])"
   ]
  },
  {
   "cell_type": "code",
   "execution_count": null,
   "id": "0c23d2d0",
   "metadata": {},
   "outputs": [],
   "source": [
    "plt.figure(figsize=(10, 3))\n",
    "plt.title(\"Activation of 20 reservoir neurons.\")\n",
    "plt.ylabel(\"$reservoir(sin(t))$\")\n",
    "plt.xlabel(\"$t$\")\n",
    "plt.plot(states[:, :20])\n",
    "plt.show()"
   ]
  },
  {
   "cell_type": "code",
   "execution_count": null,
   "id": "91d5e76d",
   "metadata": {},
   "outputs": [],
   "source": [
    "states = reservoir.run(X)"
   ]
  },
  {
   "cell_type": "code",
   "execution_count": null,
   "id": "c1c6c678",
   "metadata": {},
   "outputs": [],
   "source": [
    "_ = reservoir.reset()"
   ]
  },
  {
   "cell_type": "code",
   "execution_count": null,
   "id": "6039f815",
   "metadata": {},
   "outputs": [],
   "source": [
    "from reservoirpy.nodes import Ridge\n",
    "\n",
    "readout = Ridge(ridge=1e-7)"
   ]
  },
  {
   "cell_type": "code",
   "execution_count": null,
   "id": "f07c3d69",
   "metadata": {},
   "outputs": [],
   "source": [
    "X_train = X[:50]\n",
    "Y_train = X[1:51]\n",
    "\n",
    "plt.figure(figsize=(10, 3))\n",
    "plt.title(\"A sine wave and its future.\")\n",
    "plt.xlabel(\"$t$\")\n",
    "plt.plot(X_train, label=\"sin(t)\", color=\"blue\")\n",
    "plt.plot(Y_train, label=\"sin(t+1)\", color=\"red\")\n",
    "plt.legend()\n",
    "plt.show()"
   ]
  },
  {
   "cell_type": "code",
   "execution_count": null,
   "id": "1cc7b81a",
   "metadata": {},
   "outputs": [],
   "source": [
    "train_states = reservoir.run(X_train)"
   ]
  },
  {
   "cell_type": "code",
   "execution_count": null,
   "id": "47de1db8",
   "metadata": {},
   "outputs": [],
   "source": [
    "readout = readout.fit(train_states, Y_train, warmup=10)"
   ]
  },
  {
   "cell_type": "code",
   "execution_count": null,
   "id": "b2606873",
   "metadata": {},
   "outputs": [],
   "source": []
  }
 ],
 "metadata": {
  "language_info": {
   "name": "python"
  }
 },
 "nbformat": 4,
 "nbformat_minor": 5
}
