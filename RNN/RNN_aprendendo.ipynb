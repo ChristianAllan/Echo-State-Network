{
 "cells": [
  {
   "cell_type": "markdown",
   "id": "18d7cc9d",
   "metadata": {},
   "source": [
    "# **REDES NEURAIS RECORRENTES**"
   ]
  },
  {
   "cell_type": "markdown",
   "id": "59903583",
   "metadata": {},
   "source": [
    "\n",
    "*LINKS:*\n",
    "\n",
    "- Início -> https://www.youtube.com/watch?v=AsNTP8Kwu80&t=189s\n",
    "- Implementando -> https://www.youtube.com/watch?v=4wuIOcD1LLI\n",
    "- Notion -> https://www.notion.so/Recurrent-Neural-Network-175134de6f9c8085bfaafe6dc8ae7cf4?source=copy_link\n"
   ]
  },
  {
   "cell_type": "markdown",
   "id": "28607173",
   "metadata": {},
   "source": [
    "**O que é:**\n",
    "\n",
    "- É um modelo de deep learning treinado para processar e converter uma entrada de dados sequencial em uma saída de dados sequencial específica. Dados sequenciais pressupõe dados de séries temporais.\n",
    "\n",
    "- Assim como as RNA básicas, uma RNN é composta de Camadas (entrada/oculta/saída), neurônios, função de ativação, pesos e bias. A grande diferença está na utilização de *loops* de *feedback*.\n",
    "\n",
    "**Compartilhamento de parâmetros:**\n",
    "\n",
    "- Os parâmetros são compartilhados entre as etapas de um sequência"
   ]
  },
  {
   "cell_type": "code",
   "execution_count": 108,
   "id": "27d4451d",
   "metadata": {},
   "outputs": [],
   "source": [
    "import numpy as np\n",
    "import pandas as pd"
   ]
  },
  {
   "cell_type": "code",
   "execution_count": 109,
   "id": "67806685",
   "metadata": {},
   "outputs": [
    {
     "data": {
      "application/vnd.microsoft.datawrangler.viewer.v0+json": {
       "columns": [
        {
         "name": "index",
         "rawType": "int64",
         "type": "integer"
        },
        {
         "name": "Unnamed: 0",
         "rawType": "object",
         "type": "string"
        },
        {
         "name": "tmax",
         "rawType": "float64",
         "type": "float"
        },
        {
         "name": "tmin",
         "rawType": "float64",
         "type": "float"
        },
        {
         "name": "rain",
         "rawType": "float64",
         "type": "float"
        },
        {
         "name": "tmax_tomorrow",
         "rawType": "float64",
         "type": "float"
        }
       ],
       "ref": "99e4b084-907e-4f37-ac8d-eef597dd25a9",
       "rows": [
        [
         "0",
         "1970-01-01",
         "60.0",
         "35.0",
         "0.0",
         "52.0"
        ],
        [
         "1",
         "1970-01-02",
         "52.0",
         "39.0",
         "0.0",
         "52.0"
        ],
        [
         "2",
         "1970-01-03",
         "52.0",
         "35.0",
         "0.0",
         "53.0"
        ],
        [
         "3",
         "1970-01-04",
         "53.0",
         "36.0",
         "0.0",
         "52.0"
        ],
        [
         "4",
         "1970-01-05",
         "52.0",
         "35.0",
         "0.0",
         "50.0"
        ],
        [
         "5",
         "1970-01-06",
         "50.0",
         "38.0",
         "0.0",
         "52.0"
        ],
        [
         "6",
         "1970-01-07",
         "52.0",
         "43.0",
         "0.0",
         "56.0"
        ],
        [
         "7",
         "1970-01-08",
         "56.0",
         "49.0",
         "0.24",
         "54.0"
        ],
        [
         "8",
         "1970-01-09",
         "54.0",
         "50.0",
         "0.4",
         "57.0"
        ],
        [
         "9",
         "1970-01-10",
         "57.0",
         "50.0",
         "0.0",
         "57.0"
        ],
        [
         "10",
         "1970-01-11",
         "57.0",
         "50.0",
         "0.31",
         "58.0"
        ],
        [
         "11",
         "1970-01-12",
         "58.0",
         "52.0",
         "0.05",
         "59.0"
        ],
        [
         "12",
         "1970-01-13",
         "59.0",
         "54.0",
         "0.25",
         "58.0"
        ],
        [
         "13",
         "1970-01-14",
         "58.0",
         "53.0",
         "1.94",
         "56.0"
        ],
        [
         "14",
         "1970-01-15",
         "56.0",
         "51.0",
         "0.63",
         "61.0"
        ],
        [
         "15",
         "1970-01-16",
         "61.0",
         "56.0",
         "0.62",
         "59.0"
        ],
        [
         "16",
         "1970-01-17",
         "59.0",
         "54.0",
         "0.0",
         "58.0"
        ],
        [
         "17",
         "1970-01-18",
         "58.0",
         "53.0",
         "0.0",
         "60.0"
        ],
        [
         "18",
         "1970-01-19",
         "60.0",
         "53.0",
         "0.14",
         "60.0"
        ],
        [
         "19",
         "1970-01-20",
         "60.0",
         "53.0",
         "1.21",
         "61.0"
        ],
        [
         "20",
         "1970-01-21",
         "61.0",
         "58.0",
         "1.34",
         "62.0"
        ],
        [
         "21",
         "1970-01-22",
         "62.0",
         "58.0",
         "0.01",
         "62.0"
        ],
        [
         "22",
         "1970-01-23",
         "62.0",
         "55.0",
         "0.24",
         "58.0"
        ],
        [
         "23",
         "1970-01-24",
         "58.0",
         "50.0",
         "0.0",
         "59.0"
        ],
        [
         "24",
         "1970-01-25",
         "59.0",
         "45.0",
         "0.0",
         "60.0"
        ],
        [
         "25",
         "1970-01-26",
         "60.0",
         "48.0",
         "0.01",
         "58.0"
        ],
        [
         "26",
         "1970-01-27",
         "58.0",
         "47.0",
         "0.37",
         "57.0"
        ],
        [
         "27",
         "1970-01-28",
         "57.0",
         "39.0",
         "0.0",
         "57.0"
        ],
        [
         "28",
         "1970-01-29",
         "57.0",
         "41.0",
         "0.01",
         "57.0"
        ],
        [
         "29",
         "1970-01-30",
         "57.0",
         "46.0",
         "0.0",
         "55.0"
        ],
        [
         "30",
         "1970-01-31",
         "55.0",
         "43.0",
         "0.01",
         "59.0"
        ],
        [
         "31",
         "1970-02-01",
         "59.0",
         "48.0",
         "0.01",
         "64.0"
        ],
        [
         "32",
         "1970-02-02",
         "64.0",
         "44.0",
         "0.0",
         "57.0"
        ],
        [
         "33",
         "1970-02-03",
         "57.0",
         "44.0",
         "0.0",
         "60.0"
        ],
        [
         "34",
         "1970-02-04",
         "60.0",
         "48.0",
         "0.0",
         "57.0"
        ],
        [
         "35",
         "1970-02-05",
         "57.0",
         "50.0",
         "0.0",
         "60.0"
        ],
        [
         "36",
         "1970-02-06",
         "60.0",
         "51.0",
         "0.0",
         "66.0"
        ],
        [
         "37",
         "1970-02-07",
         "66.0",
         "50.0",
         "0.0",
         "70.0"
        ],
        [
         "38",
         "1970-02-08",
         "70.0",
         "50.0",
         "0.0",
         "63.0"
        ],
        [
         "39",
         "1970-02-09",
         "63.0",
         "50.0",
         "0.1",
         "65.0"
        ],
        [
         "40",
         "1970-02-10",
         "65.0",
         "50.0",
         "0.0",
         "63.0"
        ],
        [
         "41",
         "1970-02-11",
         "63.0",
         "54.0",
         "0.0",
         "59.0"
        ],
        [
         "42",
         "1970-02-12",
         "59.0",
         "55.0",
         "0.17",
         "58.0"
        ],
        [
         "43",
         "1970-02-13",
         "58.0",
         "52.0",
         "0.6",
         "58.0"
        ],
        [
         "44",
         "1970-02-14",
         "58.0",
         "50.0",
         "0.0",
         "59.0"
        ],
        [
         "45",
         "1970-02-15",
         "59.0",
         "47.0",
         "0.0",
         "61.0"
        ],
        [
         "46",
         "1970-02-16",
         "61.0",
         "50.0",
         "0.3",
         "57.0"
        ],
        [
         "47",
         "1970-02-17",
         "57.0",
         "47.0",
         "0.02",
         "63.0"
        ],
        [
         "48",
         "1970-02-18",
         "63.0",
         "43.0",
         "0.0",
         "64.0"
        ],
        [
         "49",
         "1970-02-19",
         "64.0",
         "46.0",
         "0.0",
         "67.0"
        ]
       ],
       "shape": {
        "columns": 5,
        "rows": 13509
       }
      },
      "text/html": [
       "<div>\n",
       "<style scoped>\n",
       "    .dataframe tbody tr th:only-of-type {\n",
       "        vertical-align: middle;\n",
       "    }\n",
       "\n",
       "    .dataframe tbody tr th {\n",
       "        vertical-align: top;\n",
       "    }\n",
       "\n",
       "    .dataframe thead th {\n",
       "        text-align: right;\n",
       "    }\n",
       "</style>\n",
       "<table border=\"1\" class=\"dataframe\">\n",
       "  <thead>\n",
       "    <tr style=\"text-align: right;\">\n",
       "      <th></th>\n",
       "      <th>Unnamed: 0</th>\n",
       "      <th>tmax</th>\n",
       "      <th>tmin</th>\n",
       "      <th>rain</th>\n",
       "      <th>tmax_tomorrow</th>\n",
       "    </tr>\n",
       "  </thead>\n",
       "  <tbody>\n",
       "    <tr>\n",
       "      <th>0</th>\n",
       "      <td>1970-01-01</td>\n",
       "      <td>60.0</td>\n",
       "      <td>35.0</td>\n",
       "      <td>0.0</td>\n",
       "      <td>52.0</td>\n",
       "    </tr>\n",
       "    <tr>\n",
       "      <th>1</th>\n",
       "      <td>1970-01-02</td>\n",
       "      <td>52.0</td>\n",
       "      <td>39.0</td>\n",
       "      <td>0.0</td>\n",
       "      <td>52.0</td>\n",
       "    </tr>\n",
       "    <tr>\n",
       "      <th>2</th>\n",
       "      <td>1970-01-03</td>\n",
       "      <td>52.0</td>\n",
       "      <td>35.0</td>\n",
       "      <td>0.0</td>\n",
       "      <td>53.0</td>\n",
       "    </tr>\n",
       "    <tr>\n",
       "      <th>3</th>\n",
       "      <td>1970-01-04</td>\n",
       "      <td>53.0</td>\n",
       "      <td>36.0</td>\n",
       "      <td>0.0</td>\n",
       "      <td>52.0</td>\n",
       "    </tr>\n",
       "    <tr>\n",
       "      <th>4</th>\n",
       "      <td>1970-01-05</td>\n",
       "      <td>52.0</td>\n",
       "      <td>35.0</td>\n",
       "      <td>0.0</td>\n",
       "      <td>50.0</td>\n",
       "    </tr>\n",
       "    <tr>\n",
       "      <th>...</th>\n",
       "      <td>...</td>\n",
       "      <td>...</td>\n",
       "      <td>...</td>\n",
       "      <td>...</td>\n",
       "      <td>...</td>\n",
       "    </tr>\n",
       "    <tr>\n",
       "      <th>13504</th>\n",
       "      <td>2022-11-22</td>\n",
       "      <td>62.0</td>\n",
       "      <td>35.0</td>\n",
       "      <td>0.0</td>\n",
       "      <td>67.0</td>\n",
       "    </tr>\n",
       "    <tr>\n",
       "      <th>13505</th>\n",
       "      <td>2022-11-23</td>\n",
       "      <td>67.0</td>\n",
       "      <td>38.0</td>\n",
       "      <td>0.0</td>\n",
       "      <td>66.0</td>\n",
       "    </tr>\n",
       "    <tr>\n",
       "      <th>13506</th>\n",
       "      <td>2022-11-24</td>\n",
       "      <td>66.0</td>\n",
       "      <td>41.0</td>\n",
       "      <td>0.0</td>\n",
       "      <td>70.0</td>\n",
       "    </tr>\n",
       "    <tr>\n",
       "      <th>13507</th>\n",
       "      <td>2022-11-25</td>\n",
       "      <td>70.0</td>\n",
       "      <td>39.0</td>\n",
       "      <td>0.0</td>\n",
       "      <td>62.0</td>\n",
       "    </tr>\n",
       "    <tr>\n",
       "      <th>13508</th>\n",
       "      <td>2022-11-26</td>\n",
       "      <td>62.0</td>\n",
       "      <td>41.0</td>\n",
       "      <td>0.0</td>\n",
       "      <td>64.0</td>\n",
       "    </tr>\n",
       "  </tbody>\n",
       "</table>\n",
       "<p>13509 rows × 5 columns</p>\n",
       "</div>"
      ],
      "text/plain": [
       "       Unnamed: 0  tmax  tmin  rain  tmax_tomorrow\n",
       "0      1970-01-01  60.0  35.0   0.0           52.0\n",
       "1      1970-01-02  52.0  39.0   0.0           52.0\n",
       "2      1970-01-03  52.0  35.0   0.0           53.0\n",
       "3      1970-01-04  53.0  36.0   0.0           52.0\n",
       "4      1970-01-05  52.0  35.0   0.0           50.0\n",
       "...           ...   ...   ...   ...            ...\n",
       "13504  2022-11-22  62.0  35.0   0.0           67.0\n",
       "13505  2022-11-23  67.0  38.0   0.0           66.0\n",
       "13506  2022-11-24  66.0  41.0   0.0           70.0\n",
       "13507  2022-11-25  70.0  39.0   0.0           62.0\n",
       "13508  2022-11-26  62.0  41.0   0.0           64.0\n",
       "\n",
       "[13509 rows x 5 columns]"
      ]
     },
     "execution_count": 109,
     "metadata": {},
     "output_type": "execute_result"
    }
   ],
   "source": [
    "df = pd.read_csv(\"clean_weather.csv\") # Dados meteorológicos\n",
    "df = df.ffill()\n",
    "df"
   ]
  },
  {
   "cell_type": "code",
   "execution_count": 110,
   "id": "ff633ff1",
   "metadata": {},
   "outputs": [
    {
     "data": {
      "application/vnd.microsoft.datawrangler.viewer.v0+json": {
       "columns": [
        {
         "name": "index",
         "rawType": "int64",
         "type": "integer"
        },
        {
         "name": "tmax",
         "rawType": "float64",
         "type": "float"
        }
       ],
       "ref": "4a834e0d-4a73-4a0c-99eb-2cd91e3f19cd",
       "rows": [
        [
         "0",
         "60.0"
        ],
        [
         "1",
         "52.0"
        ],
        [
         "2",
         "52.0"
        ],
        [
         "3",
         "53.0"
        ],
        [
         "4",
         "52.0"
        ],
        [
         "5",
         "50.0"
        ],
        [
         "6",
         "52.0"
        ],
        [
         "7",
         "56.0"
        ],
        [
         "8",
         "54.0"
        ],
        [
         "9",
         "57.0"
        ]
       ],
       "shape": {
        "columns": 1,
        "rows": 10
       }
      },
      "text/plain": [
       "0    60.0\n",
       "1    52.0\n",
       "2    52.0\n",
       "3    53.0\n",
       "4    52.0\n",
       "5    50.0\n",
       "6    52.0\n",
       "7    56.0\n",
       "8    54.0\n",
       "9    57.0\n",
       "Name: tmax, dtype: float64"
      ]
     },
     "execution_count": 110,
     "metadata": {},
     "output_type": "execute_result"
    }
   ],
   "source": [
    "df[\"tmax\"].head(10)"
   ]
  },
  {
   "cell_type": "markdown",
   "id": "5dca4e68",
   "metadata": {},
   "source": [
    "**Explicando que a quantidade de entradas podem mudar**"
   ]
  },
  {
   "cell_type": "code",
   "execution_count": 111,
   "id": "22549b99",
   "metadata": {},
   "outputs": [
    {
     "data": {
      "text/plain": [
       "array([[60., 52., 52., 53., 52., 50., 52., 56., 54., 57.]])"
      ]
     },
     "execution_count": 111,
     "metadata": {},
     "output_type": "execute_result"
    }
   ],
   "source": [
    "df[\"tmax\"].head(10).to_numpy()[np.newaxis,:] #Transforma array (X,1) em (1,X)"
   ]
  },
  {
   "cell_type": "code",
   "execution_count": 112,
   "id": "abb68465",
   "metadata": {},
   "outputs": [
    {
     "data": {
      "text/plain": [
       "array([[60., 52., 52., 53., 52., 50., 52., 56.]])"
      ]
     },
     "execution_count": 112,
     "metadata": {},
     "output_type": "execute_result"
    }
   ],
   "source": [
    "df[\"tmax\"].head(8).to_numpy()[np.newaxis,:]"
   ]
  },
  {
   "cell_type": "code",
   "execution_count": 113,
   "id": "46ce819b",
   "metadata": {},
   "outputs": [
    {
     "data": {
      "text/plain": [
       "array([[60., 52., 52., 53., 52., 50., 52., 56., 54., 57., 57., 58.]])"
      ]
     },
     "execution_count": 113,
     "metadata": {},
     "output_type": "execute_result"
    }
   ],
   "source": [
    "df[\"tmax\"].head(12).to_numpy()[np.newaxis,:]"
   ]
  },
  {
   "cell_type": "markdown",
   "id": "5dcb165e",
   "metadata": {},
   "source": [
    "**RNN mais simples**\n",
    "- Funcionamento do compartilhamento de parâmetros"
   ]
  },
  {
   "cell_type": "code",
   "execution_count": 114,
   "id": "38ae9d41",
   "metadata": {},
   "outputs": [
    {
     "data": {
      "text/plain": [
       "array([66., 70., 62.])"
      ]
     },
     "execution_count": 114,
     "metadata": {},
     "output_type": "execute_result"
    }
   ],
   "source": [
    "np.random.seed(0) # Ao inicializar uma matriz de pesos, ela sempre tem a mesma inicialização\n",
    "\n",
    "i_weigth = np.random.rand(1,2) # Inicializando pesos de entrada como números aleatórios no shape de 1 linha e 2 colunas.\n",
    "h_weigth = np.random.rand(2,2) # Inicializando pesos de camada oculta como números aleatórios no shape de 2 linha e 2 colunas.\n",
    "o_weigth = np.random.rand(2,1) # Inicializando pesos de camada oculta como números aleatórios no shape de 2 linha e 2 colunas.\n",
    "\n",
    "temps = df[\"tmax\"].tail(3).to_numpy() # Pegando os 3 últimos dados de temperatura máx\n",
    "temps\n"
   ]
  },
  {
   "cell_type": "code",
   "execution_count": 115,
   "id": "670b11fd",
   "metadata": {},
   "outputs": [],
   "source": [
    "x0 = temps[0].reshape(1,1)\n",
    "x1 = temps[1].reshape(1,1)\n",
    "x2 = temps[2].reshape(1,1)"
   ]
  },
  {
   "cell_type": "code",
   "execution_count": null,
   "id": "2a816281",
   "metadata": {},
   "outputs": [
    {
     "name": "stdout",
     "output_type": "stream",
     "text": [
      "xi_0 =  [[36.22169126 47.20249818]]\n",
      "xh_0 =  [[36.22169126 47.20249818]]\n",
      "xo_0 =  [[57.94406231]]\n"
     ]
    }
   ],
   "source": [
    "# Equação da camada de entrada na primeira situação\n",
    "xi_0 = x0 @ i_weigth # \"@\" multiplicação de matrizes\n",
    "print(f'xi_0 = ', xi_0)\n",
    "\n",
    "# Após função de ativação\n",
    "xh_0 = np.maximum(0,xi_0) # Relu\n",
    "print(f'xh_0 = ', xh_0)\n",
    "\n",
    "# Equação de saída primeira situação\n",
    "xo_0 = xh_0 @ o_weigth  \n",
    "print(f'xo_0 = ', xo_0)"
   ]
  }
 ],
 "metadata": {
  "kernelspec": {
   "display_name": "Python 3",
   "language": "python",
   "name": "python3"
  },
  "language_info": {
   "codemirror_mode": {
    "name": "ipython",
    "version": 3
   },
   "file_extension": ".py",
   "mimetype": "text/x-python",
   "name": "python",
   "nbconvert_exporter": "python",
   "pygments_lexer": "ipython3",
   "version": "3.11.9"
  }
 },
 "nbformat": 4,
 "nbformat_minor": 5
}
